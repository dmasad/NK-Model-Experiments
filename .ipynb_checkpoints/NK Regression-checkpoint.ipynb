{
 "metadata": {
  "name": "",
  "signature": "sha256:ea050cc79d8eee9db962cb38c3411f52cce6dd9eec14947b6da7d0c1ecf3b941"
 },
 "nbformat": 3,
 "nbformat_minor": 0,
 "worksheets": [
  {
   "cells": [
    {
     "cell_type": "code",
     "collapsed": false,
     "input": [
      "import numpy as np\n",
      "import pandas\n",
      "import statsmodels.api as sm\n",
      "\n",
      "import matplotlib.pyplot as plt\n",
      "%matplotlib inline\n",
      "\n",
      "from NKModel import NK_Model"
     ],
     "language": "python",
     "metadata": {},
     "outputs": [],
     "prompt_number": 12
    },
    {
     "cell_type": "markdown",
     "metadata": {},
     "source": [
      "## Quickly test the NK Model code"
     ]
    },
    {
     "cell_type": "code",
     "collapsed": false,
     "input": [
      "model = NK_Model(5, k=2)\n",
      "print model.fitness_vector"
     ],
     "language": "python",
     "metadata": {},
     "outputs": [
      {
       "output_type": "stream",
       "stream": "stdout",
       "text": [
        "[4, 1]\n"
       ]
      }
     ],
     "prompt_number": 18
    },
    {
     "cell_type": "markdown",
     "metadata": {},
     "source": [
      "Show all possible boolean inputs"
     ]
    },
    {
     "cell_type": "code",
     "collapsed": false,
     "input": [
      "#model.enumerate_space()"
     ],
     "language": "python",
     "metadata": {},
     "outputs": [
      {
       "metadata": {},
       "output_type": "pyout",
       "prompt_number": 19,
       "text": [
        "{(0, 0, 0, 0, 0): 0,\n",
        " (0, 0, 0, 0, 1): 5,\n",
        " (0, 0, 0, 1, 0): 5,\n",
        " (0, 0, 0, 1, 1): 10,\n",
        " (0, 0, 1, 0, 0): 5,\n",
        " (0, 0, 1, 0, 1): 10,\n",
        " (0, 0, 1, 1, 0): 10,\n",
        " (0, 0, 1, 1, 1): 15,\n",
        " (0, 1, 0, 0, 0): 5,\n",
        " (0, 1, 0, 0, 1): 10,\n",
        " (0, 1, 0, 1, 0): 10,\n",
        " (0, 1, 0, 1, 1): 15,\n",
        " (0, 1, 1, 0, 0): 10,\n",
        " (0, 1, 1, 0, 1): 15,\n",
        " (0, 1, 1, 1, 0): 15,\n",
        " (0, 1, 1, 1, 1): 20,\n",
        " (1, 0, 0, 0, 0): 5,\n",
        " (1, 0, 0, 0, 1): 10,\n",
        " (1, 0, 0, 1, 0): 10,\n",
        " (1, 0, 0, 1, 1): 15,\n",
        " (1, 0, 1, 0, 0): 10,\n",
        " (1, 0, 1, 0, 1): 15,\n",
        " (1, 0, 1, 1, 0): 15,\n",
        " (1, 0, 1, 1, 1): 20,\n",
        " (1, 1, 0, 0, 0): 10,\n",
        " (1, 1, 0, 0, 1): 15,\n",
        " (1, 1, 0, 1, 0): 15,\n",
        " (1, 1, 0, 1, 1): 20,\n",
        " (1, 1, 1, 0, 0): 15,\n",
        " (1, 1, 1, 0, 1): 20,\n",
        " (1, 1, 1, 1, 0): 20,\n",
        " (1, 1, 1, 1, 1): 25}"
       ]
      }
     ],
     "prompt_number": 19
    },
    {
     "cell_type": "markdown",
     "metadata": {},
     "source": [
      "### Convert space and fitness to DataFrame"
     ]
    },
    {
     "cell_type": "code",
     "collapsed": false,
     "input": [
      "model_space = []\n",
      "for key, val in model.enumerate_space().items():\n",
      "    row = {}\n",
      "    for i in range(model.n):\n",
      "        row[\"x\" + str(i)] = key[i]\n",
      "    row[\"Fitness\"] = val\n",
      "    model_space.append(row)\n",
      "\n",
      "df = pandas.DataFrame(model_space)"
     ],
     "language": "python",
     "metadata": {},
     "outputs": [],
     "prompt_number": 20
    },
    {
     "cell_type": "code",
     "collapsed": false,
     "input": [
      "df.head()"
     ],
     "language": "python",
     "metadata": {},
     "outputs": [
      {
       "html": [
        "<div style=\"max-height:1000px;max-width:1500px;overflow:auto;\">\n",
        "<table border=\"1\" class=\"dataframe\">\n",
        "  <thead>\n",
        "    <tr style=\"text-align: right;\">\n",
        "      <th></th>\n",
        "      <th>Fitness</th>\n",
        "      <th>x0</th>\n",
        "      <th>x1</th>\n",
        "      <th>x2</th>\n",
        "      <th>x3</th>\n",
        "      <th>x4</th>\n",
        "    </tr>\n",
        "  </thead>\n",
        "  <tbody>\n",
        "    <tr>\n",
        "      <th>0</th>\n",
        "      <td> 15</td>\n",
        "      <td> 1</td>\n",
        "      <td> 1</td>\n",
        "      <td> 1</td>\n",
        "      <td> 0</td>\n",
        "      <td> 0</td>\n",
        "    </tr>\n",
        "    <tr>\n",
        "      <th>1</th>\n",
        "      <td> 15</td>\n",
        "      <td> 1</td>\n",
        "      <td> 0</td>\n",
        "      <td> 1</td>\n",
        "      <td> 1</td>\n",
        "      <td> 0</td>\n",
        "    </tr>\n",
        "    <tr>\n",
        "      <th>2</th>\n",
        "      <td> 20</td>\n",
        "      <td> 1</td>\n",
        "      <td> 1</td>\n",
        "      <td> 0</td>\n",
        "      <td> 1</td>\n",
        "      <td> 1</td>\n",
        "    </tr>\n",
        "    <tr>\n",
        "      <th>3</th>\n",
        "      <td>  5</td>\n",
        "      <td> 1</td>\n",
        "      <td> 0</td>\n",
        "      <td> 0</td>\n",
        "      <td> 0</td>\n",
        "      <td> 0</td>\n",
        "    </tr>\n",
        "    <tr>\n",
        "      <th>4</th>\n",
        "      <td>  5</td>\n",
        "      <td> 0</td>\n",
        "      <td> 0</td>\n",
        "      <td> 0</td>\n",
        "      <td> 0</td>\n",
        "      <td> 1</td>\n",
        "    </tr>\n",
        "  </tbody>\n",
        "</table>\n",
        "<p>5 rows \u00d7 6 columns</p>\n",
        "</div>"
       ],
       "metadata": {},
       "output_type": "pyout",
       "prompt_number": 21,
       "text": [
        "   Fitness  x0  x1  x2  x3  x4\n",
        "0       15   1   1   1   0   0\n",
        "1       15   1   0   1   1   0\n",
        "2       20   1   1   0   1   1\n",
        "3        5   1   0   0   0   0\n",
        "4        5   0   0   0   0   1\n",
        "\n",
        "[5 rows x 6 columns]"
       ]
      }
     ],
     "prompt_number": 21
    },
    {
     "cell_type": "markdown",
     "metadata": {},
     "source": [
      "## Fit linear model"
     ]
    },
    {
     "cell_type": "code",
     "collapsed": false,
     "input": [
      "x_cols = df.columns[1:]"
     ],
     "language": "python",
     "metadata": {},
     "outputs": [],
     "prompt_number": 22
    },
    {
     "cell_type": "code",
     "collapsed": false,
     "input": [
      "lm = sm.OLS(df.Fitness, df[x_cols])\n",
      "fit = lm.fit()"
     ],
     "language": "python",
     "metadata": {},
     "outputs": [],
     "prompt_number": 23
    },
    {
     "cell_type": "code",
     "collapsed": false,
     "input": [
      "print fit.summary()"
     ],
     "language": "python",
     "metadata": {},
     "outputs": [
      {
       "output_type": "stream",
       "stream": "stdout",
       "text": [
        "                            OLS Regression Results                            \n",
        "==============================================================================\n",
        "Dep. Variable:                Fitness   R-squared:                       1.000\n",
        "Model:                            OLS   Adj. R-squared:                  1.000\n",
        "Method:                 Least Squares   F-statistic:                 3.329e+31\n",
        "Date:                Thu, 16 Oct 2014   Prob (F-statistic):               0.00\n",
        "Time:                        13:41:16   Log-Likelihood:                 1030.3\n",
        "No. Observations:                  32   AIC:                            -2051.\n",
        "Df Residuals:                      27   BIC:                            -2043.\n",
        "Df Model:                           4                                         \n",
        "==============================================================================\n",
        "                 coef    std err          t      P>|t|      [95.0% Conf. Int.]\n",
        "------------------------------------------------------------------------------\n",
        "x0             5.0000   8.84e-16   5.65e+15      0.000         5.000     5.000\n",
        "x1             5.0000   8.84e-16   5.65e+15      0.000         5.000     5.000\n",
        "x2             5.0000   8.84e-16   5.65e+15      0.000         5.000     5.000\n",
        "x3             5.0000   8.84e-16   5.65e+15      0.000         5.000     5.000\n",
        "x4             5.0000   8.84e-16   5.65e+15      0.000         5.000     5.000\n",
        "==============================================================================\n",
        "Omnibus:                        2.881   Durbin-Watson:                   1.533\n",
        "Prob(Omnibus):                  0.237   Jarque-Bera (JB):                1.376\n",
        "Skew:                          -0.032   Prob(JB):                        0.503\n",
        "Kurtosis:                       1.986   Cond. No.                         2.45\n",
        "==============================================================================\n"
       ]
      }
     ],
     "prompt_number": 24
    },
    {
     "cell_type": "code",
     "collapsed": false,
     "input": [
      "y = []\n",
      "for i in range(2**model.n):\n",
      "    x = model._num_to_tuple(i)\n",
      "    y.append(model.eval_fitness(x))\n",
      "\n",
      "plt.plot(range(2**model.n), y)"
     ],
     "language": "python",
     "metadata": {},
     "outputs": [
      {
       "metadata": {},
       "output_type": "pyout",
       "prompt_number": 26,
       "text": [
        "[<matplotlib.lines.Line2D at 0x10b195450>]"
       ]
      },
      {
       "metadata": {},
       "output_type": "display_data",
       "png": "[encoded data removed]",
       "text": [
        "<matplotlib.figure.Figure at 0x10b1de250>"
       ]
      }
     ],
     "prompt_number": 26
    },
    {
     "cell_type": "code",
     "collapsed": false,
     "input": [],
     "language": "python",
     "metadata": {},
     "outputs": []
    }
   ],
   "metadata": {}
  }
 ]
}